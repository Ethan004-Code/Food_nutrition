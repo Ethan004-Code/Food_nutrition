{
  "nbformat": 4,
  "nbformat_minor": 0,
  "metadata": {
    "colab": {
      "provenance": []
    },
    "kernelspec": {
      "name": "python3",
      "display_name": "Python 3"
    },
    "language_info": {
      "name": "python"
    }
  },
  "cells": [
    {
      "cell_type": "code",
      "source": [
        "!pip install rapidfuzz\n"
      ],
      "metadata": {
        "id": "CKBzqvh4iAoe",
        "colab": {
          "base_uri": "https://localhost:8080/"
        },
        "outputId": "53bfe728-2cd7-4fed-c6ef-5f72ee333742"
      },
      "execution_count": null,
      "outputs": [
        {
          "output_type": "stream",
          "name": "stdout",
          "text": [
            "Collecting rapidfuzz\n",
            "  Downloading rapidfuzz-3.13.0-cp311-cp311-manylinux_2_17_x86_64.manylinux2014_x86_64.whl.metadata (12 kB)\n",
            "Downloading rapidfuzz-3.13.0-cp311-cp311-manylinux_2_17_x86_64.manylinux2014_x86_64.whl (3.1 MB)\n",
            "\u001b[2K   \u001b[90m━━━━━━━━━━━━━━━━━━━━━━━━━━━━━━━━━━━━━━━━\u001b[0m \u001b[32m3.1/3.1 MB\u001b[0m \u001b[31m28.8 MB/s\u001b[0m eta \u001b[36m0:00:00\u001b[0m\n",
            "\u001b[?25hInstalling collected packages: rapidfuzz\n",
            "Successfully installed rapidfuzz-3.13.0\n"
          ]
        }
      ]
    },
    {
      "cell_type": "code",
      "execution_count": null,
      "metadata": {
        "id": "WiWqx_vRbJDP",
        "colab": {
          "base_uri": "https://localhost:8080/"
        },
        "outputId": "88a32a78-0f38-48bd-c3da-01d8f213fa5b"
      },
      "outputs": [
        {
          "output_type": "stream",
          "name": "stdout",
          "text": [
            "                               food  Caloric  Value   Fat  Saturated Fats  \\\n",
            "0                      cream cheese      NaN     51   5.0             2.9   \n",
            "1                 neufchatel cheese      NaN    215  19.4            10.9   \n",
            "2  requeijao cremoso light catupiry      NaN     49   3.6             2.3   \n",
            "3                    ricotta cheese      NaN     30   2.0             1.3   \n",
            "4              cream cheese low fat      NaN     30   2.3             1.4   \n",
            "\n",
            "   Monounsaturated Fats  Polyunsaturated Fats  Carbohydrates  Sugars  Protein  \\\n",
            "0                   1.3                 0.200            0.8   0.500      0.9   \n",
            "1                   4.9                 0.800            3.1   2.700      7.8   \n",
            "2                   0.9                 0.000            0.9   3.400      0.8   \n",
            "3                   0.5                 0.002            1.5   0.091      1.5   \n",
            "4                   0.6                 0.042            1.2   0.900      1.2   \n",
            "\n",
            "   ...  Calcium  Copper   Iron  Magnesium  Manganese  Phosphorus  Potassium  \\\n",
            "0  ...    0.008  14.100  0.082      0.027      1.300       0.091       15.5   \n",
            "1  ...   99.500   0.034  0.100      8.500      0.088     117.300      129.2   \n",
            "2  ...    0.000   0.000  0.000      0.000      0.000       0.000        0.0   \n",
            "3  ...    0.097  41.200  0.097      0.096      4.000       0.024       30.8   \n",
            "4  ...   22.200   0.072  0.008      1.200      0.098      22.800       37.1   \n",
            "\n",
            "   Selenium   Zinc  Nutrition Density  \n",
            "0    19.100  0.039              7.070  \n",
            "1     0.054  0.700            130.100  \n",
            "2     0.000  0.000              5.400  \n",
            "3    43.800  0.035              5.196  \n",
            "4     0.034  0.053             27.007  \n",
            "\n",
            "[5 rows x 37 columns]\n"
          ]
        }
      ],
      "source": [
        "import pandas as pd\n",
        "from io import StringIO\n",
        "import requests\n",
        "from rapidfuzz import process\n",
        "\n",
        "url = \"https://raw.githubusercontent.com/Ethan004-Code/Food_nutrition_dataset/main/cleaned_food_data.txt\"\n",
        "response = requests.get(url)\n",
        "text_data = response.text\n",
        "data = StringIO(text_data)\n",
        "df = pd.read_fwf(data)\n",
        "\n",
        "print(df.head())\n"
      ]
    },
    {
      "cell_type": "code",
      "source": [
        "\n",
        "low_calorie_foods = df[df['Value'] < 40]\n",
        "\n",
        "print(low_calorie_foods)\n"
      ],
      "metadata": {
        "id": "wZgcXdDBeqGM",
        "colab": {
          "base_uri": "https://localhost:8080/"
        },
        "outputId": "f84f7b12-793e-4d47-bb69-1d812c7cbd40"
      },
      "execution_count": null,
      "outputs": [
        {
          "output_type": "stream",
          "name": "stdout",
          "text": [
            "                          food  Caloric  Value    Fat  Saturated Fats  \\\n",
            "3               ricotta cheese      NaN     30  2.000           1.300   \n",
            "4         cream cheese low fat      NaN     30  2.300           1.400   \n",
            "5        cream cheese fat free      NaN     19  0.200           0.100   \n",
            "9                romano cheese      NaN     19  1.300           0.900   \n",
            "10      parmesan cheese grated      NaN     21  1.400           0.800   \n",
            "...                        ...      ...    ...    ...             ...   \n",
            "2390                  jews ear      NaN     25  0.095           0.000   \n",
            "2391           enoki mushrooms      NaN      1  0.099           0.027   \n",
            "2392           morel mushrooms      NaN      4  0.070           0.056   \n",
            "2393  portabella mushrooms raw      NaN     19  0.300           0.036   \n",
            "2394           oyster mushroom      NaN      5  0.035           0.016   \n",
            "\n",
            "      Monounsaturated Fats  Polyunsaturated Fats  Carbohydrates  Sugars  \\\n",
            "3                    0.500                 0.002            1.5   0.091   \n",
            "4                    0.600                 0.042            1.2   0.900   \n",
            "5                    0.091                 0.075            1.4   1.000   \n",
            "9                    0.400                 0.035            0.2   0.088   \n",
            "10                   0.400                 0.036            0.7   0.075   \n",
            "...                    ...                   ...            ...     ...   \n",
            "2390                 0.000                 0.000            6.7   0.000   \n",
            "2391                 0.000                 0.010            0.2   0.034   \n",
            "2392                 0.031                 0.007            0.7   0.096   \n",
            "2393                 0.016                 0.100            3.3   2.200   \n",
            "2394                 0.039                 0.099            0.9   0.200   \n",
            "\n",
            "      Protein  ...  Calcium  Copper   Iron  Magnesium  Manganese  Phosphorus  \\\n",
            "3       1.500  ...    0.097  41.200  0.097      0.096      4.000       0.024   \n",
            "4       1.200  ...   22.200   0.072  0.008      1.200      0.098      22.800   \n",
            "5       2.800  ...   63.200   0.039  0.053      4.000      0.028      94.100   \n",
            "9       1.600  ...   53.200   0.046  0.030      2.100      0.002      38.000   \n",
            "10      1.400  ...    0.012  42.700  0.094      0.094      1.700       0.026   \n",
            "...       ...  ...      ...     ...    ...        ...        ...         ...   \n",
            "2390    0.500  ...   15.800   0.400  0.600     24.800      0.040      13.900   \n",
            "2391    0.062  ...    0.000   0.000  0.099      0.034      0.500       0.015   \n",
            "2392    0.400  ...    0.000   5.500  0.056      1.600      2.500       0.060   \n",
            "2393    1.800  ...    2.600   0.200  0.300      0.000      0.092      92.900   \n",
            "2394    0.500  ...    0.000   0.500  0.008      0.200      2.700       0.055   \n",
            "\n",
            "      Potassium  Selenium   Zinc  Nutrition Density  \n",
            "3          30.8    43.800  0.035              5.196  \n",
            "4          37.1     0.034  0.053             27.007  \n",
            "5          50.0     0.013  0.300             67.679  \n",
            "9           4.3     0.087  0.100             56.380  \n",
            "10         31.4     9.000  0.038              3.745  \n",
            "...         ...       ...    ...                ...  \n",
            "2390       42.6     0.034  0.700             24.249  \n",
            "2391        3.2    10.800  0.096              0.433  \n",
            "2392       25.0    53.000  0.069              1.727  \n",
            "2393      313.0     0.015  0.500              9.400  \n",
            "2394       18.0    63.000  0.048              1.804  \n",
            "\n",
            "[546 rows x 37 columns]\n"
          ]
        }
      ]
    },
    {
      "cell_type": "code",
      "source": [
        "def compute_health_score(row):\n",
        "    score = 0\n",
        "    if row['Fat'] < 5:\n",
        "        score += 2\n",
        "    if row['Saturated Fats'] < 1.5:\n",
        "        score += 2\n",
        "    if row['Sugars'] < 5:\n",
        "        score += 2\n",
        "    if row['Dietary Fiber'] > 3:\n",
        "        score += 2\n",
        "\n",
        "\n",
        "    if 5 <= row['Protein'] <= 15:\n",
        "        score += 1\n",
        "\n",
        "    if row['Sodium'] < 140:\n",
        "        score += 2\n",
        "    if row['Cholesterol'] < 30:\n",
        "        score += 2\n",
        "\n",
        "    return score\n"
      ],
      "metadata": {
        "id": "8cdPajP_gCun"
      },
      "execution_count": null,
      "outputs": []
    },
    {
      "cell_type": "code",
      "source": [
        "print(df.columns.tolist())\n"
      ],
      "metadata": {
        "id": "GEbkkslOhBVN",
        "colab": {
          "base_uri": "https://localhost:8080/"
        },
        "outputId": "a6806baa-7d5e-4b47-f6a2-b51ac6c259bb"
      },
      "execution_count": null,
      "outputs": [
        {
          "output_type": "stream",
          "name": "stdout",
          "text": [
            "['food', 'Caloric', 'Value', 'Fat', 'Saturated Fats', 'Monounsaturated Fats', 'Polyunsaturated Fats', 'Carbohydrates', 'Sugars', 'Protein', 'Dietary', 'Fiber', 'Cholesterol', 'Sodium', 'Water', 'Vitamin A', 'Vitamin B1', 'Vitamin B11', 'Vitamin B12', 'Vitamin B2', 'Vitamin B3', 'Vitamin B5', 'Vitamin B6', 'Vitamin C', 'Vitamin D', 'Vitamin E', 'Vitamin K', 'Calcium', 'Copper', 'Iron', 'Magnesium', 'Manganese', 'Phosphorus', 'Potassium', 'Selenium', 'Zinc', 'Nutrition Density']\n"
          ]
        }
      ]
    },
    {
      "cell_type": "code",
      "source": [
        "print(df.columns.tolist())"
      ],
      "metadata": {
        "id": "cPZXNSG6mkSM",
        "colab": {
          "base_uri": "https://localhost:8080/"
        },
        "outputId": "6bb04337-caf4-45f4-ef71-ed2be92d5051"
      },
      "execution_count": null,
      "outputs": [
        {
          "output_type": "stream",
          "name": "stdout",
          "text": [
            "['food', 'Caloric', 'Value', 'Fat', 'Saturated Fats', 'Monounsaturated Fats', 'Polyunsaturated Fats', 'Carbohydrates', 'Sugars', 'Protein', 'Dietary', 'Fiber', 'Cholesterol', 'Sodium', 'Water', 'Vitamin A', 'Vitamin B1', 'Vitamin B11', 'Vitamin B12', 'Vitamin B2', 'Vitamin B3', 'Vitamin B5', 'Vitamin B6', 'Vitamin C', 'Vitamin D', 'Vitamin E', 'Vitamin K', 'Calcium', 'Copper', 'Iron', 'Magnesium', 'Manganese', 'Phosphorus', 'Potassium', 'Selenium', 'Zinc', 'Nutrition Density']\n"
          ]
        }
      ]
    },
    {
      "cell_type": "code",
      "source": [
        "import pandas as pd\n",
        "from io import StringIO\n",
        "import requests\n",
        "from rapidfuzz import process\n",
        "\n",
        "# Step 1: Load data from your URL\n",
        "url = \"https://raw.githubusercontent.com/Ethan004-Code/Food_nutrition_dataset/main/cleaned_food_data.txt\"\n",
        "response = requests.get(url)\n",
        "data = StringIO(response.text)\n",
        "\n",
        "df = pd.read_fwf(data)\n",
        "\n",
        "\n",
        "df = df.rename(columns={'Value': 'Calories'})\n",
        "if 'Caloric' in df.columns:\n",
        "    df = df.drop(columns=['Caloric'])\n",
        "\n",
        "print(\"Columns after fix:\", df.columns.tolist())\n",
        "print(df[['food', 'Calories', 'Fat', 'Sugars']].head())\n",
        "\n",
        "\n",
        "def log_food_fuzzy(food_name, df, portion_size_grams):\n",
        "    food_list = df['food'].tolist()\n",
        "    best_match, score, idx = process.extractOne(food_name, food_list)\n",
        "\n",
        "    if score < 60:\n",
        "        print(f\"Food '{food_name}' not found with good match (best: '{best_match}', score: {score:.2f})\")\n",
        "        return None\n",
        "\n",
        "    food_info = df.iloc[idx]\n",
        "    scaling_factor = portion_size_grams / 100.0\n",
        "\n",
        "    logged_calories = food_info['Calories'] * scaling_factor\n",
        "    logged_fat = food_info['Fat'] * scaling_factor\n",
        "    logged_saturated_fats = food_info['Saturated Fats'] * scaling_factor\n",
        "    logged_sugars = food_info['Sugars'] * scaling_factor\n",
        "    logged_dietary_fiber = food_info['Fiber'] * scaling_factor if 'Fiber' in df.columns else 0\n",
        "    logged_protein = food_info['Protein'] * scaling_factor\n",
        "    logged_sodium = food_info['Sodium'] * scaling_factor\n",
        "    logged_cholesterol = food_info['Cholesterol'] * scaling_factor\n",
        "\n",
        "    print(f\"\\nLogged {portion_size_grams}g of {food_info['food']}:\")\n",
        "    print(f\"  Calories: {logged_calories:.2f}\")\n",
        "    print(f\"  Fat: {logged_fat:.2f}g\")\n",
        "    print(f\"  Saturated Fats: {logged_saturated_fats:.2f}g\")\n",
        "    print(f\"  Sugars: {logged_sugars:.2f}g\")\n",
        "    print(f\"  Dietary Fiber: {logged_dietary_fiber:.2f}g\")\n",
        "    print(f\"  Protein: {logged_protein:.2f}g\")\n",
        "    print(f\"  Sodium: {logged_sodium:.2f}mg\")\n",
        "    print(f\"  Cholesterol: {logged_cholesterol:.2f}mg\")\n",
        "\n",
        "    return {\n",
        "        'food_name': food_info['food'],\n",
        "        'portion_size_grams': portion_size_grams,\n",
        "        'calories': logged_calories,\n",
        "        'fat': logged_fat,\n",
        "        'saturated_fats': logged_saturated_fats,\n",
        "        'sugars': logged_sugars,\n",
        "        'dietary_fiber': logged_dietary_fiber,\n",
        "        'protein': logged_protein,\n",
        "        'sodium': logged_sodium,\n",
        "        'cholesterol': logged_cholesterol\n",
        "    }\n",
        "log_food_fuzzy(\"cream cheese\", df, 150)\n",
        "log_food_fuzzy(\"apple\", df, 100)\n",
        "log_food_fuzzy(\"ice cream\", df, 200)"
      ],
      "metadata": {
        "id": "MLbJFVX2oHJj",
        "colab": {
          "base_uri": "https://localhost:8080/"
        },
        "outputId": "dd25e6f7-7a99-4828-c81c-f7d28a956757"
      },
      "execution_count": null,
      "outputs": [
        {
          "output_type": "stream",
          "name": "stdout",
          "text": [
            "Columns after fix: ['food', 'Calories', 'Fat', 'Saturated Fats', 'Monounsaturated Fats', 'Polyunsaturated Fats', 'Carbohydrates', 'Sugars', 'Protein', 'Dietary', 'Fiber', 'Cholesterol', 'Sodium', 'Water', 'Vitamin A', 'Vitamin B1', 'Vitamin B11', 'Vitamin B12', 'Vitamin B2', 'Vitamin B3', 'Vitamin B5', 'Vitamin B6', 'Vitamin C', 'Vitamin D', 'Vitamin E', 'Vitamin K', 'Calcium', 'Copper', 'Iron', 'Magnesium', 'Manganese', 'Phosphorus', 'Potassium', 'Selenium', 'Zinc', 'Nutrition Density']\n",
            "                               food  Calories   Fat  Sugars\n",
            "0                      cream cheese        51   5.0   0.500\n",
            "1                 neufchatel cheese       215  19.4   2.700\n",
            "2  requeijao cremoso light catupiry        49   3.6   3.400\n",
            "3                    ricotta cheese        30   2.0   0.091\n",
            "4              cream cheese low fat        30   2.3   0.900\n",
            "\n",
            "Logged 150g of cream cheese:\n",
            "  Calories: 76.50\n",
            "  Fat: 7.50g\n",
            "  Saturated Fats: 4.35g\n",
            "  Sugars: 0.75g\n",
            "  Dietary Fiber: 0.00g\n",
            "  Protein: 1.35g\n",
            "  Sodium: 0.02mg\n",
            "  Cholesterol: 21.90mg\n",
            "\n",
            "Logged 100g of apple:\n",
            "  Calories: 95.00\n",
            "  Fat: 0.30g\n",
            "  Saturated Fats: 0.04g\n",
            "  Sugars: 18.90g\n",
            "  Dietary Fiber: 4.40g\n",
            "  Protein: 0.50g\n",
            "  Sodium: 0.06mg\n",
            "  Cholesterol: 0.00mg\n",
            "\n",
            "Logged 200g of cream cheese low fat:\n",
            "  Calories: 60.00\n",
            "  Fat: 4.60g\n",
            "  Saturated Fats: 2.80g\n",
            "  Sugars: 1.80g\n",
            "  Dietary Fiber: 0.00g\n",
            "  Protein: 2.40g\n",
            "  Sodium: 0.09mg\n",
            "  Cholesterol: 16.20mg\n"
          ]
        },
        {
          "output_type": "execute_result",
          "data": {
            "text/plain": [
              "{'food_name': 'cream cheese low fat',\n",
              " 'portion_size_grams': 200,\n",
              " 'calories': np.float64(60.0),\n",
              " 'fat': np.float64(4.6),\n",
              " 'saturated_fats': np.float64(2.8),\n",
              " 'sugars': np.float64(1.8),\n",
              " 'dietary_fiber': np.float64(0.0),\n",
              " 'protein': np.float64(2.4),\n",
              " 'sodium': np.float64(0.092),\n",
              " 'cholesterol': np.float64(16.2)}"
            ]
          },
          "metadata": {},
          "execution_count": 11
        }
      ]
    },
    {
      "cell_type": "code",
      "source": [
        "logged_entries = []\n",
        "\n",
        "# Log multiple items\n",
        "logged_entries.append(log_food_fuzzy(\"cream cheese\", df, 150))\n",
        "logged_entries.append(log_food_fuzzy(\"apple\", df, 100))\n",
        "logged_entries.append(log_food_fuzzy(\"ice cream\", df, 200))\n",
        "import pandas as pd\n",
        "log_df = pd.DataFrame([entry for entry in logged_entries if entry is not None])\n",
        "\n",
        "# View / save the results\n",
        "print(log_df)\n",
        "log_df.to_csv(\"logged_nutrition.csv\", index=False)"
      ],
      "metadata": {
        "id": "2RaJcUqEWdNT",
        "colab": {
          "base_uri": "https://localhost:8080/"
        },
        "outputId": "e4264790-18c0-446e-b3cd-777e86940e9d"
      },
      "execution_count": null,
      "outputs": [
        {
          "output_type": "stream",
          "name": "stdout",
          "text": [
            "\n",
            "Logged 150g of cream cheese:\n",
            "  Calories: 76.50\n",
            "  Fat: 7.50g\n",
            "  Saturated Fats: 4.35g\n",
            "  Sugars: 0.75g\n",
            "  Dietary Fiber: 0.00g\n",
            "  Protein: 1.35g\n",
            "  Sodium: 0.02mg\n",
            "  Cholesterol: 21.90mg\n",
            "\n",
            "Logged 100g of apple:\n",
            "  Calories: 95.00\n",
            "  Fat: 0.30g\n",
            "  Saturated Fats: 0.04g\n",
            "  Sugars: 18.90g\n",
            "  Dietary Fiber: 4.40g\n",
            "  Protein: 0.50g\n",
            "  Sodium: 0.06mg\n",
            "  Cholesterol: 0.00mg\n",
            "\n",
            "Logged 200g of cream cheese low fat:\n",
            "  Calories: 60.00\n",
            "  Fat: 4.60g\n",
            "  Saturated Fats: 2.80g\n",
            "  Sugars: 1.80g\n",
            "  Dietary Fiber: 0.00g\n",
            "  Protein: 2.40g\n",
            "  Sodium: 0.09mg\n",
            "  Cholesterol: 16.20mg\n",
            "              food_name  portion_size_grams  calories  fat  saturated_fats  \\\n",
            "0          cream cheese                 150      76.5  7.5           4.350   \n",
            "1                 apple                 100      95.0  0.3           0.043   \n",
            "2  cream cheese low fat                 200      60.0  4.6           2.800   \n",
            "\n",
            "   sugars  dietary_fiber  protein  sodium  cholesterol  \n",
            "0    0.75            0.0     1.35   0.024         21.9  \n",
            "1   18.90            4.4     0.50   0.062          0.0  \n",
            "2    1.80            0.0     2.40   0.092         16.2  \n"
          ]
        }
      ]
    },
    {
      "cell_type": "code",
      "source": [
        "from datetime import datetime\n",
        "\n",
        "def log_food_with_metadata(food_name, df, portion_size_grams, meal_type):\n",
        "    entry = log_food_fuzzy(food_name, df, portion_size_grams)\n",
        "    if entry:\n",
        "        entry['meal_type'] = meal_type\n",
        "        entry['date'] = datetime.today().strftime('%Y-%m-%d')\n",
        "        return entry\n",
        "    return None\n",
        "\n",
        "# Example:\n",
        "logged_entries.append(log_food_with_metadata(\"apple\", df, 100, \"breakfast\"))"
      ],
      "metadata": {
        "id": "-qTq4sXkWhCz",
        "colab": {
          "base_uri": "https://localhost:8080/"
        },
        "outputId": "11b152c0-28ad-44e8-cee8-3be2cfba843a"
      },
      "execution_count": null,
      "outputs": [
        {
          "output_type": "stream",
          "name": "stdout",
          "text": [
            "\n",
            "Logged 100g of apple:\n",
            "  Calories: 95.00\n",
            "  Fat: 0.30g\n",
            "  Saturated Fats: 0.04g\n",
            "  Sugars: 18.90g\n",
            "  Dietary Fiber: 4.40g\n",
            "  Protein: 0.50g\n",
            "  Sodium: 0.06mg\n",
            "  Cholesterol: 0.00mg\n"
          ]
        }
      ]
    },
    {
      "cell_type": "code",
      "source": [
        "summary = log_df.drop(columns=['food_name', 'portion_size_grams', 'meal_type', 'date'], errors='ignore').sum()\n",
        "print(\"Daily Totals:\")\n",
        "print(summary)"
      ],
      "metadata": {
        "id": "ZEtpk9AUWjH4",
        "colab": {
          "base_uri": "https://localhost:8080/"
        },
        "outputId": "a34e3ed3-58bd-4aa4-b43d-616384b8ee98"
      },
      "execution_count": null,
      "outputs": [
        {
          "output_type": "stream",
          "name": "stdout",
          "text": [
            "Daily Totals:\n",
            "calories          231.500\n",
            "fat                12.400\n",
            "saturated_fats      7.193\n",
            "sugars             21.450\n",
            "dietary_fiber       4.400\n",
            "protein             4.250\n",
            "sodium              0.178\n",
            "cholesterol        38.100\n",
            "dtype: float64\n"
          ]
        }
      ]
    },
    {
      "cell_type": "markdown",
      "source": [
        "*Testing phase*\n"
      ],
      "metadata": {
        "id": "qSbJbQNMXB3h"
      }
    },
    {
      "cell_type": "code",
      "source": [
        "unique_foods = df['food'].unique().tolist()\n",
        "portion_sizes = [50, 100, 150, 200, 250, 300]  # You can expand this\n"
      ],
      "metadata": {
        "id": "LX6iYRgdXBf7"
      },
      "execution_count": null,
      "outputs": []
    },
    {
      "cell_type": "code",
      "source": [
        "def filter_foods(query, df):\n",
        "    return df[df['food'].str.contains(query, case=False, na=False)]['food'].unique().tolist()\n",
        "\n",
        "# Example\n",
        "print(filter_foods(\"cheese\", df))\n",
        "print(filter_foods(\"chicken\", df))\n"
      ],
      "metadata": {
        "id": "U9hhDHlAXMwZ",
        "colab": {
          "base_uri": "https://localhost:8080/"
        },
        "outputId": "a8bf444a-e57b-412c-e9a4-24892825796c"
      },
      "execution_count": null,
      "outputs": [
        {
          "output_type": "stream",
          "name": "stdout",
          "text": [
            "['cream cheese', 'neufchatel cheese', 'ricotta cheese', 'cream cheese low fat', 'cream cheese fat free', 'gruyere cheese', 'cheddar cheese', 'parmesan cheese', 'romano cheese', 'parmesan cheese grated', 'port salut cheese', 'swiss cheese', 'goat cheese hard', 'gouda cheese', 'pepper jack cheese lucerne', 'caraway cheese', 'gjetost cheese', 'tilsit cheese', 'goat cheese', 'brick cheese', 'asadero cheese', 'camembert cheese', 'provolone cheese reduced fat', 'roquefort cheese', 'queso blanco cheese', 'queso seco cheese', 'goat cheese soft', 'mozzarella cheese', 'chihuahua cheese', 'limburger cheese', 'muenster cheese', 'queso fresco cheese', 'brie cheese', 'pimento cheese', 'mexican cheese', 'feta cheese', 'mozzarella cheese fat free', 'provolone cheese', 'anejo cheese', 'cheese spread', 'american cheese spread', 'ham and cheese spread', 'baked potato with cheese sauce bacon', 'enchilada with cheese beef', 'biscuit with egg cheese bacon', 'bagel with ham egg cheese', 'frijoles with cheese', 'enchilada with cheese', 'ham cheese roll', 'croissant with egg cheese', 'enchirito with cheese beef beans', 'english muffin with egg cheese sausage', 'taco with chicken cheese lettuce', 'english muffin with cheese sausage', 'chicken sandwich with cheese', 'nachos with cheese jalapeno peppers', 'chimichanga with beef cheese', 'egg cheese sandwich', 'cheese croissant', 'ham egg cheese sandwich', 'ham cheese sandwich', 'tostada with beef cheese', 'tostada with beans cheese', 'nachos with cheese', 'baked potato with cheese sauce', 'taco with beef cheese lettuce', 'burrito with beans cheese beef', 'burrito with beans cheese', 'cheese tortellini', 'macaroni cheese', 'cheese lasagna', 'cheese soup', 'aco with beef cheese lettuce taco bell', 'cheese ravioli canned', 'cheeseburger burger king', 'cheeseburger mcdonalds', 'double cheeseburger', 'big n tasty with cheese mcdonalds', 'quarter pounder with cheese mcdonalds', 'cheeseburger', 'double whopper with cheese burger king', 'roast beef sandwich with cheese', 'cheese pizza pizza hut', 'cheese pizza', 'cheese pizza dominos', 'fish sandwich with cheese', 'cheesecake', 'danish pastry with cheese', 'cheese coffeecake', 'cheese popcorn', 'cheese imitation', 'cheshire cheese', 'monterey cheese', 'edam cheese', 'fontina cheese', 'monterey cheese low fat', 'colby cheese', 'american cheese', 'blue cheese', 'cottage cheese creamed', 'cottage cheese low fat', 'cottage cheese nonfat', 'sweet cheese rolls', 'cheese bread', 'cheese puffs', 'cheese crackers', 'nacho cheese tortilla chips low fat', 'potato chips cheese', 'nacho cheese tortilla chips', 'blue cheese dressing light', 'cheese sauce', 'tomato sauce with herbs cheese', 'roquefort cheese dressing', 'blue cheese dressing', 'soybean curd cheese', 'vegetable salad with cheese egg']\n",
            "['chicken spread', 'chicken and rice casserole homade', 'quesadilla with chicken', 'kung pao chicken', 'crispy chicken sandwich', 'chicken egg roll', 'lemon chicken', 'taco with chicken cheese lettuce', 'sweet sour chicken', 'chicken sandwich with cheese', 'chicken sandwich', 'chicken pot pie', 'general tsos chicken', 'chicken chow mein', 'vegetable chicken soup', 'cream of chicken soup', 'chicken broth dry', 'chicken mushroom soup', 'chicken broth soup', 'chicken mushroom chowder soup', 'chicken dumplings soup', 'chicken vegetable soup', 'chicken rice soup', 'chicken soup', 'chicken gravy', 'chicken noodle soup', 'chicken bouillon dry', 'chicken broth', 'chicken stock', 'chicken gumbo soup', 'original chicken sandwich chick fil a', 'icken drumstick kentucky fried chicken', 'ispy drumsticks kentucky fried chicken', 'biscuit kentucky fried chicken', 'en crispy wings kentucky fried chicken', 'mcchicken mcdonalds', 'py chicken wing kentucky fried chicken', 'chicken strips burger king', 'chicken breast kentucky fried chicken', 'y chicken thigh kentucky fried chicken', 'chicken box mcdonalds', 'potato wedges kentucky fried chicken', 'chicken strips kentucky fried chicken', 'n crispy breast kentucky fried chicken', 'chicken mcnuggets mcdonalds', 'rice bowl with chicken', 'y chicken ranch blt sandwich mcdonalds', 'led chicken classic sandwich mcdonalds', 'rilled chicken club sandwich mcdonalds', 'spy chicken classic sandwich mcdonalds', 'd chicken ranch blt sandwich mcdonalds', 'hand breaded chicken tenders carls jr', 'grilled chicken sandwich wendys', 'original chicken sandwich burger king', 'crispy chicken club sandwich mcdonalds', 'chicken flavored rice raw', 'chicken flavored rice cooked', 'chicken nuggets', 'chicken patty', 'chicken pork bologna', 'chicken gizzard cooked', 'chicken heart cooked', 'chicken liver cooked', 'chicken skin roasted', 'chicken wing cooked', 'chicken back raw', 'chicken back cooked', 'chicken leg fried', 'chicken feet cooked', 'chicken leg raw', 'chicken meat raw', 'chicken neck cooked', 'chicken drumstick fried', 'chicken wing roasted', 'chicken breast cooked', 'chicken neck raw', 'chicken drumstick raw', 'chicken breast raw', 'ground chicken cooked', 'chicken fajita strips', 'crispy chicken strips tyson', 'chicken fat', 'meatless chicken fried', 'meatless chicken', 'r salad with grilled chicken mcdonalds', 'vegetable salad with chicken', 'ar salad with crispy chicken mcdonalds']\n"
          ]
        }
      ]
    },
    {
      "cell_type": "code",
      "source": [
        "workout_entries = []\n",
        "\n",
        "def log_workout(activity, calories_burned, duration_minutes):\n",
        "    return {\n",
        "        \"activity\": activity,\n",
        "        \"calories_burned\": calories_burned,\n",
        "        \"duration_minutes\": duration_minutes,\n",
        "        \"date\": datetime.today().strftime('%Y-%m-%d')\n",
        "    }\n",
        "\n",
        "\n",
        "workout_entries.append(log_workout(\"Running\", 300, 30))\n"
      ],
      "metadata": {
        "id": "WKbD0kCdXWjH"
      },
      "execution_count": null,
      "outputs": []
    },
    {
      "cell_type": "code",
      "source": [
        "def calculate_net_calories(log_df, workout_entries):\n",
        "    food_calories = log_df['calories'].sum()\n",
        "    workout_calories = sum(entry['calories_burned'] for entry in workout_entries)\n",
        "    return food_calories - workout_calories\n"
      ],
      "metadata": {
        "id": "91wc_kgiXdbm"
      },
      "execution_count": null,
      "outputs": []
    },
    {
      "cell_type": "code",
      "source": [
        "def score_food(entry):\n",
        "    # Simple example scoring: penalize high sugar and saturated fat\n",
        "    score = 100\n",
        "    score -= entry['sugars'] * 2\n",
        "    score -= entry['saturated_fats'] * 5\n",
        "    score += entry['dietary_fiber'] * 2\n",
        "    return max(score, 0)\n",
        "log_df['score'] = log_df.apply(score_food, axis=1)\n"
      ],
      "metadata": {
        "id": "RrSZMO6fXfla"
      },
      "execution_count": null,
      "outputs": []
    },
    {
      "cell_type": "code",
      "source": [
        "def calorie_target(goal, base_calories=2000):\n",
        "    if goal == \"gain\":\n",
        "        return base_calories + 500\n",
        "    elif goal == \"lose\":\n",
        "        return base_calories - 500\n",
        "    else:  # maintain\n",
        "        return base_calories\n",
        "\n",
        "# Compare to net calories\n",
        "net_cals = calculate_net_calories(log_df, workout_entries)\n",
        "target = calorie_target(\"maintain\")\n",
        "print(f\"Net Calories: {net_cals} / Target: {target}\")\n"
      ],
      "metadata": {
        "id": "sOTThWMfXiDy",
        "colab": {
          "base_uri": "https://localhost:8080/"
        },
        "outputId": "92cdfb2d-e26e-4b5f-ed8c-1af08763105a"
      },
      "execution_count": null,
      "outputs": [
        {
          "output_type": "stream",
          "name": "stdout",
          "text": [
            "Net Calories: -68.5 / Target: 2000\n"
          ]
        }
      ]
    },
    {
      "cell_type": "code",
      "source": [
        "import json\n",
        "\n",
        "def save_logs(log_df, workout_entries, filename='daily_log.json'):\n",
        "    data = {\n",
        "        'food_logs': log_df.to_dict(orient='records'),\n",
        "        'workouts': workout_entries\n",
        "    }\n",
        "    with open(filename, 'w') as f:\n",
        "        json.dump(data, f, indent=2)\n",
        "\n",
        "def load_logs(filename='daily_log.json'):\n",
        "    with open(filename, 'r') as f:\n",
        "        data = json.load(f)\n",
        "    return pd.DataFrame(data['food_logs']), data['workouts']\n"
      ],
      "metadata": {
        "id": "v8FJ9Wf4XpLz"
      },
      "execution_count": null,
      "outputs": []
    },
    {
      "cell_type": "code",
      "source": [
        "def group_by_day(log_df):\n",
        "    return log_df.groupby('date')['calories'].sum()\n",
        "\n",
        "# Weekly trend\n",
        "def weekly_trend(log_df):\n",
        "    log_df['week'] = pd.to_datetime(log_df['date']).dt.isocalendar().week\n",
        "    return log_df.groupby('week')['calories'].sum()\n",
        "\n",
        "\n"
      ],
      "metadata": {
        "id": "OxLDs-7-XsC_"
      },
      "execution_count": null,
      "outputs": []
    },
    {
      "cell_type": "code",
      "source": [
        "summary = log_df.drop(columns=['food_name', 'portion_size_grams', 'meal_type', 'date'], errors='ignore').sum()\n",
        "print(\"Daily Totals:\")\n",
        "print(summary)\n",
        "\n"
      ],
      "metadata": {
        "id": "ydt0VSPeX8AT",
        "colab": {
          "base_uri": "https://localhost:8080/"
        },
        "outputId": "08487904-4624-424b-a5a2-733fb1b73195"
      },
      "execution_count": null,
      "outputs": [
        {
          "output_type": "stream",
          "name": "stdout",
          "text": [
            "Daily Totals:\n",
            "calories          231.500\n",
            "fat                12.400\n",
            "saturated_fats      7.193\n",
            "sugars             21.450\n",
            "dietary_fiber       4.400\n",
            "protein             4.250\n",
            "sodium              0.178\n",
            "cholesterol        38.100\n",
            "score             229.935\n",
            "dtype: float64\n"
          ]
        }
      ]
    },
    {
      "cell_type": "code",
      "source": [
        "from datetime import datetime\n",
        "\n",
        "log_df['date'] = datetime.today().strftime('%Y-%m-%d')\n",
        "log_df['date'] = pd.to_datetime(log_df['date'])\n",
        "\n",
        "print(log_df)\n"
      ],
      "metadata": {
        "id": "WVPLcKITYh9x",
        "colab": {
          "base_uri": "https://localhost:8080/"
        },
        "outputId": "c2128c96-8414-485c-d652-da24f583d79a"
      },
      "execution_count": null,
      "outputs": [
        {
          "output_type": "stream",
          "name": "stdout",
          "text": [
            "              food_name  portion_size_grams  calories  fat  saturated_fats  \\\n",
            "0          cream cheese                 150      76.5  7.5           4.350   \n",
            "1                 apple                 100      95.0  0.3           0.043   \n",
            "2  cream cheese low fat                 200      60.0  4.6           2.800   \n",
            "\n",
            "   sugars  dietary_fiber  protein  sodium  cholesterol   score       date  \n",
            "0    0.75            0.0     1.35   0.024         21.9  76.750 2025-06-29  \n",
            "1   18.90            4.4     0.50   0.062          0.0  70.785 2025-06-29  \n",
            "2    1.80            0.0     2.40   0.092         16.2  82.400 2025-06-29  \n"
          ]
        }
      ]
    },
    {
      "cell_type": "code",
      "source": [
        "print(log_df.columns)\n",
        "print(log_df['date'].head(10))\n",
        "print(log_df['date'].isnull().sum())  # count how many null values\n"
      ],
      "metadata": {
        "id": "Jw7gCSayZJGh",
        "colab": {
          "base_uri": "https://localhost:8080/"
        },
        "outputId": "5910897e-25e1-4a1d-c3b2-8641c37e3401"
      },
      "execution_count": null,
      "outputs": [
        {
          "output_type": "stream",
          "name": "stdout",
          "text": [
            "Index(['food_name', 'portion_size_grams', 'calories', 'fat', 'saturated_fats',\n",
            "       'sugars', 'dietary_fiber', 'protein', 'sodium', 'cholesterol', 'score',\n",
            "       'date'],\n",
            "      dtype='object')\n",
            "0   2025-06-29\n",
            "1   2025-06-29\n",
            "2   2025-06-29\n",
            "Name: date, dtype: datetime64[ns]\n",
            "0\n"
          ]
        }
      ]
    },
    {
      "cell_type": "code",
      "source": [
        "import pandas as pd\n",
        "import matplotlib.pyplot as plt\n",
        "\n",
        "# Sample daily_summary\n",
        "daily_summary = pd.DataFrame({\n",
        "    'Date': pd.date_range(start='2025-06-07', periods=3),\n",
        "    'Total Calories': [2000, 2200, 1800]\n",
        "})\n",
        "daily_summary.set_index('Date', inplace=True)\n",
        "daily_summary['7-Day Avg'] = daily_summary['Total Calories'].rolling(7).mean()\n",
        "\n",
        "plt.figure(figsize=(10, 6))\n",
        "plt.plot(daily_summary.index, daily_summary['Total Calories'], label='Daily Calories', alpha=0.5, marker='o')\n",
        "plt.plot(daily_summary.index, daily_summary['7-Day Avg'], label='7-Day Avg', color='orange', linewidth=2)\n",
        "plt.axhline(y=2000, color='red', linestyle='--', label='Target (2000 kcal)')\n",
        "plt.title('Daily & Weekly Calorie Trend')\n",
        "plt.xlabel('Date')\n",
        "plt.ylabel('Calories')\n",
        "plt.legend()\n",
        "plt.grid(True)\n",
        "plt.tight_layout()\n",
        "plt.show()\n"
      ],
      "metadata": {
        "id": "1Euyho8NY7zS",
        "colab": {
          "base_uri": "https://localhost:8080/",
          "height": 607
        },
        "outputId": "606cecee-509d-4dfa-f751-de2c24243755"
      },
      "execution_count": null,
      "outputs": [
        {
          "output_type": "display_data",
          "data": {
            "text/plain": [
              "<Figure size 1000x600 with 1 Axes>"
            ],
            "image/png": "[encoded data removed]"
          },
          "metadata": {}
        }
      ]
    },
    {
      "cell_type": "code",
      "source": [
        "HEALTHY_RANGES = {\n",
        "    \"protein\": (50, 100),\n",
        "    \"carbs\": (130, 225),\n",
        "    \"fiber\": (25, 35),\n",
        "    \"sugar\": (0, 25),\n",
        "    \"saturated_fat\": (0, 20),\n",
        "    \"sodium\": (0, 2300),\n",
        "    \"fat\": (60, 80)\n",
        "}\n",
        "\n",
        "def evaluate_meal(meal_log):\n",
        "    advice = []\n",
        "\n",
        "    for nutrient, (min_val, max_val) in HEALTHY_RANGES.items():\n",
        "        value = meal_log.get(nutrient)\n",
        "        if value is None:\n",
        "            continue\n",
        "        if value < min_val:\n",
        "            advice.append(f\"⚠️ Your {nutrient} intake is low ({value}g). Try to include more sources like lean meats, beans, or seeds.\")\n",
        "        elif value > max_val:\n",
        "            advice.append(f\"⚠️ Your {nutrient} intake is high ({value}g). Consider reducing intake for better health.\")\n",
        "        else:\n",
        "            advice.append(f\"✅ {nutrient.capitalize()} is within the healthy range ({value}g). Nice job!\")\n",
        "\n",
        "    return advice\n"
      ],
      "metadata": {
        "id": "X-cFbMCk3k3L"
      },
      "execution_count": null,
      "outputs": []
    },
    {
      "cell_type": "code",
      "source": [
        "# Step 1: Define nutrient targets and evaluation function\n",
        "HEALTHY_RANGES = {\n",
        "    \"protein\": (50, 100),\n",
        "    \"carbs\": (130, 225),\n",
        "    \"fiber\": (25, 35),\n",
        "    \"sugar\": (0, 25),\n",
        "    \"saturated_fat\": (0, 20),\n",
        "    \"sodium\": (0, 2300),\n",
        "    \"fat\": (60, 80)\n",
        "}\n",
        "\n",
        "def evaluate_meal(meal_log):\n",
        "    advice = []\n",
        "\n",
        "    for nutrient, (min_val, max_val) in HEALTHY_RANGES.items():\n",
        "        value = meal_log.get(nutrient)\n",
        "        if value is None:\n",
        "            continue\n",
        "\n",
        "        if value < min_val:\n",
        "            advice.append(f\"⚠️ {nutrient.capitalize()} is low ({value}g). Consider boosting with healthy options.\")\n",
        "        elif value > max_val:\n",
        "            advice.append(f\"⚠️ {nutrient.capitalize()} is high ({value}g). Consider reducing for better health.\")\n",
        "        else:\n",
        "            advice.append(f\"✅ {nutrient.capitalize()} is in a healthy range ({value}g). Good job!\")\n",
        "\n",
        "    return advice\n",
        "test_meal = {\n",
        "    \"protein\": 40,\n",
        "    \"carbs\": 90,\n",
        "    \"fiber\": 10,\n",
        "    \"sugar\": 28,\n",
        "    \"saturated_fat\": 15,\n",
        "    \"sodium\": 2500,\n",
        "    \"fat\": 70\n",
        "}\n",
        "feedback = evaluate_meal(test_meal)\n",
        "\n",
        "for line in feedback:\n",
        "    print(line)\n"
      ],
      "metadata": {
        "id": "fq0K_MDcWkz2",
        "outputId": "b77472cb-ec61-42c8-a0d6-cfb54ad30450",
        "colab": {
          "base_uri": "https://localhost:8080/"
        }
      },
      "execution_count": null,
      "outputs": [
        {
          "output_type": "stream",
          "name": "stdout",
          "text": [
            "⚠️ Protein is low (40g). Consider boosting with healthy options.\n",
            "⚠️ Carbs is low (90g). Consider boosting with healthy options.\n",
            "⚠️ Fiber is low (10g). Consider boosting with healthy options.\n",
            "⚠️ Sugar is high (28g). Consider reducing for better health.\n",
            "✅ Saturated_fat is in a healthy range (15g). Good job!\n",
            "⚠️ Sodium is high (2500g). Consider reducing for better health.\n",
            "✅ Fat is in a healthy range (70g). Good job!\n"
          ]
        }
      ]
    }
  ]
}